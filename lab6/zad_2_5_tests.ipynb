{
 "cells": [
  {
   "cell_type": "code",
   "execution_count": null,
   "id": "02423aae",
   "metadata": {},
   "outputs": [],
   "source": [
    "import queue\n",
    "import numpy as np\n",
    "import pandas as pd\n",
    "import itertools\n",
    "import matplotlib.pyplot as plt\n",
    "import seaborn as sns"
   ]
  },
  {
   "cell_type": "code",
   "execution_count": null,
   "id": "0f85f4ff",
   "metadata": {},
   "outputs": [],
   "source": [
    "df = pd.read_csv('results/combinations_results.csv', delimiter=',')\n",
    "df_sorted = df.sort_values(by='score', ascending=False)\n",
    "best_solution = df_sorted.iloc[0]"
   ]
  },
  {
   "cell_type": "code",
   "execution_count": null,
   "id": "e0d02bdb",
   "metadata": {},
   "outputs": [],
   "source": [
    "# TEST1: HEATMAP FOR BEST POPULATION SIZE\n",
    "best_population_size = best_solution['population_size']\n",
    "subset = df[df['population_size'] == best_population_size]\n",
    "\n",
    "heatmap_data = subset.pivot_table(\n",
    "    index='mutation_rate', \n",
    "    columns='crossover_rate', \n",
    "    values='solution_cost'\n",
    ")\n",
    "\n",
    "sns.heatmap(heatmap_data, annot=True, cmap='viridis')\n",
    "plt.title('Solution Cost (pop size = 100)')\n",
    "plt.show()"
   ]
  },
  {
   "cell_type": "code",
   "execution_count": null,
   "id": "0d716444",
   "metadata": {},
   "outputs": [],
   "source": [
    "# TEST1: Pairplot\n",
    "sns.pairplot(df, \n",
    "             x_vars=['population_size', 'mutation_rate', 'crossover_rate'], \n",
    "             y_vars='solution_cost', \n",
    "             kind='scatter')"
   ]
  },
  {
   "cell_type": "code",
   "execution_count": null,
   "id": "87bbe05b",
   "metadata": {},
   "outputs": [],
   "source": [
    "# TEST1: SCATTERPLOT:\n",
    "sns.scatterplot(data=df, \n",
    "                x='mutation_rate', \n",
    "                y='crossover_rate', \n",
    "                size='solution_cost', \n",
    "                hue='population_size', \n",
    "                palette='coolwarm', sizes=(50, 300))"
   ]
  }
 ],
 "metadata": {
  "language_info": {
   "name": "python"
  }
 },
 "nbformat": 4,
 "nbformat_minor": 5
}
