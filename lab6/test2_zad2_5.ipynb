{
 "cells": [
  {
   "cell_type": "code",
   "execution_count": 1,
   "id": "1580f9b6",
   "metadata": {},
   "outputs": [],
   "source": [
    "# TESTS FOR BEST PARAMETERS\n",
    "import queue\n",
    "import numpy as np\n",
    "import pandas as pd\n",
    "import itertools\n",
    "import matplotlib.pyplot as plt\n",
    "import seaborn as sns"
   ]
  },
  {
   "cell_type": "code",
   "execution_count": null,
   "id": "df9d0951",
   "metadata": {},
   "outputs": [],
   "source": [
    "df = pd.read_csv('results/proper_combinations_results.csv', delimiter=',')\n",
    "df_sorted = df.sort_values(by='avg_solution_cost', ascending=False)\n",
    "best_solution = df_sorted.iloc[0]\n",
    "\n",
    "best_population = best_solution['population_size']\n",
    "best_mutation_rate = best_solution['mutation_rate']\n",
    "best_crossover_rate = best_solution['crossover_rate']\n",
    "\n",
    "print(f\"Best Population Size: {best_population}\")\n",
    "print(f\"Best Mutation Rate: {best_mutation_rate}\")\n",
    "print(f\"Best Crossover Rate: {best_crossover_rate}\")\n"
   ]
  },
  {
   "cell_type": "code",
   "execution_count": null,
   "id": "127f957f",
   "metadata": {},
   "outputs": [],
   "source": [
    "\n",
    "folder = 'results/best_params'\n",
    "files = [f'{folder}/Tournament.csv', f'{folder}/Roulette.csv']"
   ]
  },
  {
   "cell_type": "code",
   "execution_count": null,
   "id": "16147c4d",
   "metadata": {},
   "outputs": [],
   "source": [
    "# solution_cost(n):\n",
    "\n",
    "sns.set(style='whitegrid')\n",
    "\n",
    "for file in files:\n",
    "    selection_method = file.replace('.csv', '')\n",
    "    df = pd.read_csv(os.path.join(folder, file))\n",
    "\n",
    "    plt.figure(figsize=(12, 6))\n",
    "\n",
    "    if selection_method == 'Tournament':\n",
    "        # Plot with separate lines for each (crossover_method, tournament_size)\n",
    "        for (cross, tour_size), group in df.groupby(['crossover_method', 'tournament_size']):\n",
    "            group_sorted = group.sort_values(by='problem_size')\n",
    "            label = f\"{cross}, Tournament Size {int(tour_size)}\"\n",
    "            plt.plot(group_sorted['problem_size'], group_sorted['avg_solution_cost'], marker='o', label=label)\n",
    "\n",
    "    else:  # Roulette\n",
    "        # Plot with separate lines for each crossover_method\n",
    "        for cross, group in df.groupby('crossover_method'):\n",
    "            group_sorted = group.sort_values(by='problem_size')\n",
    "            plt.plot(group_sorted['problem_size'], group_sorted['avg_solution_cost'], marker='o', label=f\"{cross}\")\n",
    "\n",
    "    plt.title(f\"Avg Solution Cost vs Problem Size ({selection_method})\")\n",
    "    plt.xlabel(\"Problem Size (n)\")\n",
    "    plt.ylabel(\"Average Solution Cost\")\n",
    "    plt.legend()\n",
    "    plt.tight_layout()\n",
    "    plt.savefig(f\"results/best_params/plot_{selection_method}.png\")\n",
    "    plt.show()"
   ]
  }
 ],
 "metadata": {
  "kernelspec": {
   "display_name": "Python 3",
   "language": "python",
   "name": "python3"
  },
  "language_info": {
   "codemirror_mode": {
    "name": "ipython",
    "version": 3
   },
   "file_extension": ".py",
   "mimetype": "text/x-python",
   "name": "python",
   "nbconvert_exporter": "python",
   "pygments_lexer": "ipython3",
   "version": "3.12.4"
  }
 },
 "nbformat": 4,
 "nbformat_minor": 5
}
