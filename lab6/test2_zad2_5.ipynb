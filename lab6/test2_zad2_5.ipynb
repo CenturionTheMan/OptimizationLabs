{
 "cells": [
  {
   "cell_type": "code",
   "execution_count": 2,
   "id": "1580f9b6",
   "metadata": {},
   "outputs": [],
   "source": [
    "# TESTS FOR BEST PARAMETERS\n",
    "import queue\n",
    "import numpy as np\n",
    "import pandas as pd\n",
    "import itertools\n",
    "import matplotlib.pyplot as plt\n",
    "import seaborn as snss"
   ]
  },
  {
   "cell_type": "code",
   "execution_count": 3,
   "id": "4d697b3a",
   "metadata": {},
   "outputs": [
    {
     "name": "stdout",
     "output_type": "stream",
     "text": [
      "Best Population Size: 200.0\n",
      "Best Mutation Rate: 0.2\n",
      "Best Crossover Rate: 0.1\n"
     ]
    }
   ],
   "source": [
    "df = pd.read_csv('results/combinations_results.csv', delimiter=',')\n",
    "df_sorted = df.sort_values(by='solution_cost', ascending=False)\n",
    "best_solution = df_sorted.iloc[0]\n",
    "\n",
    "best_population = best_solution['population_size']\n",
    "best_mutation_rate = best_solution['mutation_rate']\n",
    "best_crossover_rate = best_solution['crossover_rate']\n",
    "\n",
    "print(f\"Best Population Size: {best_population}\")\n",
    "print(f\"Best Mutation Rate: {best_mutation_rate}\")\n",
    "print(f\"Best Crossover Rate: {best_crossover_rate}\")"
   ]
  },
  {
   "cell_type": "code",
   "execution_count": null,
   "id": "16147c4d",
   "metadata": {},
   "outputs": [],
   "source": []
  }
 ],
 "metadata": {
  "kernelspec": {
   "display_name": "Python 3",
   "language": "python",
   "name": "python3"
  },
  "language_info": {
   "codemirror_mode": {
    "name": "ipython",
    "version": 3
   },
   "file_extension": ".py",
   "mimetype": "text/x-python",
   "name": "python",
   "nbconvert_exporter": "python",
   "pygments_lexer": "ipython3",
   "version": "3.12.4"
  }
 },
 "nbformat": 4,
 "nbformat_minor": 5
}
