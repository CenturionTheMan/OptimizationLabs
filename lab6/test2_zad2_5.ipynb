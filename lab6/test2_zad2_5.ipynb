{
 "cells": [
  {
   "cell_type": "code",
   "execution_count": null,
   "id": "1580f9b6",
   "metadata": {},
   "outputs": [],
   "source": [
    "# TESTS FOR BEST PARAMETERS\n",
    "import queue\n",
    "import numpy as np\n",
    "import pandas as pd\n",
    "import itertools\n",
    "import matplotlib.pyplot as plt\n",
    "import seaborn as snss"
   ]
  },
  {
   "cell_type": "code",
   "execution_count": null,
   "id": "4d697b3a",
   "metadata": {},
   "outputs": [],
   "source": [
    "df = pd.read_csv('results/combinations_results.csv', delimiter=',')\n",
    "df_sorted = df.sort_values(by='solution_cost', ascending=False)\n",
    "best_solution = df_sorted.iloc[0]\n",
    "\n",
    "best_population = best_solution['population_size']\n",
    "best_mutation_rate = best_solution['mutation_rate']\n",
    "best_crossover_rate = best_solution['crossover_rate']\n",
    "\n",
    "print(f\"Best Population Size: {best_population}\")\n",
    "print(f\"Best Mutation Rate: {best_mutation_rate}\")\n",
    "print(f\"Best Crossover Rate: {best_crossover_rate}\")"
   ]
  },
  {
   "cell_type": "code",
   "execution_count": null,
   "id": "16147c4d",
   "metadata": {},
   "outputs": [],
   "source": []
  }
 ],
 "metadata": {
  "language_info": {
   "name": "python"
  }
 },
 "nbformat": 4,
 "nbformat_minor": 5
}
