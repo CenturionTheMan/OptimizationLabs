{
 "cells": [
  {
   "cell_type": "code",
   "execution_count": 2,
   "id": "7b92a12e",
   "metadata": {},
   "outputs": [],
   "source": [
    "import queue\n",
    "import numpy as np\n",
    "from typing import List, Tuple\n",
    "import heapq\n",
    "import math\n",
    "import datetime\n",
    "import pandas as pd\n",
    "from classes.random_gen import RandomNumberGenerator\n",
    "from classes.task import Task\n",
    "from classes.basic_rs import BasicRS\n",
    "import itertools\n",
    "\n",
    "\n",
    "seed = 42\n",
    "np.random.seed(seed)"
   ]
  },
  {
   "cell_type": "code",
   "execution_count": 3,
   "id": "3419c67e",
   "metadata": {},
   "outputs": [],
   "source": [
    "rng = RandomNumberGenerator(seed)"
   ]
  },
  {
   "cell_type": "code",
   "execution_count": null,
   "id": "b5e11aa4",
   "metadata": {},
   "outputs": [
    {
     "name": "stdout",
     "output_type": "stream",
     "text": [
      "Done\n"
     ]
    }
   ],
   "source": [
    "file_name = 'rs_initial.csv'\n",
    "reps = 5\n",
    "n = range(20,101,20)\n",
    "\n",
    "initial_sizes = [10, 100, 1000, 10000]\n",
    "\n",
    "results = []\n",
    "for rep_ in range(reps):\n",
    "    for n_ in n:\n",
    "        \n",
    "        tasks = rng.get_random_tasks(n_)\n",
    "        rs = BasicRS(initial='single', initial_size=None)\n",
    "\n",
    "        time_start = datetime.datetime.now()\n",
    "        best, best_fit, best_found_time, initial_fitness = rs.run(tasks)\n",
    "        time_end = datetime.datetime.now()\n",
    "    \n",
    "        time_taken = (time_end - time_start).total_seconds()\n",
    "        time_till_best = (best_found_time - time_start).total_seconds()\n",
    "    \n",
    "        results.append([rep_, n_, best_fit, time_taken, time_till_best, initial_fitness, rs.time_limit_s, rs.initial, rs.initial_size, rs.neighbor, rs.no_impro_iter])\n",
    "        df = pd.DataFrame(results, columns=['rep', 'n', 'best_fit', 'time_taken', 'time_till_best', 'initial_fitness', 'time_limit_s', 'initial', 'initial_size', 'neighbor', 'no_impro_iter'])\n",
    "        df.to_csv(f'./../res/{file_name}', index=False)\n",
    "        \n",
    "        for initial_size in initial_sizes:\n",
    "            tasks = rng.get_random_tasks(n_)\n",
    "            rs = BasicRS(initial='group', initial_size=initial_size)\n",
    "\n",
    "            time_start = datetime.datetime.now()\n",
    "            best, best_fit, best_found_time, initial_fitness = rs.run(tasks)\n",
    "            time_end = datetime.datetime.now()\n",
    "        \n",
    "            time_taken = (time_end - time_start).total_seconds()\n",
    "            time_till_best = (best_found_time - time_start).total_seconds()\n",
    "        \n",
    "            results.append([rep_, n_, best_fit, time_taken, time_till_best, initial_fitness, rs.time_limit_s, rs.initial, rs.initial_size, rs.neighbor, rs.no_impro_iter])\n",
    "            df = pd.DataFrame(results, columns=['rep', 'n', 'best_fit', 'time_taken', 'time_till_best', 'initial_fitness', 'time_limit_s', 'initial', 'initial_size', 'neighbor', 'no_impro_iter'])\n",
    "            df.to_csv(f'./../res/{file_name}', index=False)\n",
    "print(\"Done\")"
   ]
  },
  {
   "cell_type": "code",
   "execution_count": 4,
   "id": "56c4d74a",
   "metadata": {},
   "outputs": [
    {
     "name": "stdout",
     "output_type": "stream",
     "text": [
      "Done\n"
     ]
    }
   ],
   "source": [
    "file_name = 'rs_neighbor.csv'\n",
    "reps = 5\n",
    "n = range(20,101,20)\n",
    "\n",
    "neighbors = ['close', 'wide']\n",
    "\n",
    "results = []\n",
    "for rep_ in range(reps):\n",
    "    for n_ in n:\n",
    "        \n",
    "        for neighbor in neighbors:\n",
    "            tasks = rng.get_random_tasks(n_)\n",
    "            rs = BasicRS(initial='group', initial_size=100, neighbor=neighbor)\n",
    "\n",
    "            time_start = datetime.datetime.now()\n",
    "            best, best_fit, best_found_time, initial_fitness = rs.run(tasks)\n",
    "            time_end = datetime.datetime.now()\n",
    "        \n",
    "            time_taken = (time_end - time_start).total_seconds()\n",
    "            time_till_best = (best_found_time - time_start).total_seconds()\n",
    "        \n",
    "            results.append([rep_, n_, best_fit, time_taken, time_till_best, initial_fitness, rs.time_limit_s, rs.initial, rs.initial_size, rs.neighbor, rs.no_impro_iter])\n",
    "            df = pd.DataFrame(results, columns=['rep', 'n', 'best_fit', 'time_taken', 'time_till_best', 'initial_fitness', 'time_limit_s', 'initial', 'initial_size', 'neighbor', 'no_impro_iter'])\n",
    "            df.to_csv(f'./../res/{file_name}', index=False)\n",
    "            \n",
    "            \n",
    "print(\"Done\")"
   ]
  },
  {
   "cell_type": "code",
   "execution_count": 4,
   "id": "f0236459",
   "metadata": {},
   "outputs": [
    {
     "name": "stdout",
     "output_type": "stream",
     "text": [
      "Done\n"
     ]
    }
   ],
   "source": [
    "file_name = 'rs_best_params.csv'\n",
    "reps = 10\n",
    "n = range(20,101,20)\n",
    "\n",
    "results = []\n",
    "for rep_ in range(reps):\n",
    "    for n_ in n:\n",
    "        \n",
    "        tasks = rng.get_random_tasks(n_)\n",
    "        rs = BasicRS(initial='group', initial_size=10, neighbor='wide')\n",
    "\n",
    "        time_start = datetime.datetime.now()\n",
    "        best, best_fit, best_found_time, initial_fitness = rs.run(tasks)\n",
    "        time_end = datetime.datetime.now()\n",
    "    \n",
    "        time_taken = (time_end - time_start).total_seconds()\n",
    "        time_till_best = (best_found_time - time_start).total_seconds()\n",
    "    \n",
    "        results.append([rep_, n_, best_fit, time_taken, time_till_best, initial_fitness, rs.time_limit_s, rs.initial, rs.initial_size, rs.neighbor, rs.no_impro_iter])\n",
    "        df = pd.DataFrame(results, columns=['rep', 'n', 'best_fit', 'time_taken', 'time_till_best', 'initial_fitness', 'time_limit_s', 'initial', 'initial_size', 'neighbor', 'no_impro_iter'])\n",
    "        df.to_csv(f'./../res/{file_name}', index=False)\n",
    "            \n",
    "            \n",
    "print(\"Done\")"
   ]
  }
 ],
 "metadata": {
  "kernelspec": {
   "display_name": ".venv",
   "language": "python",
   "name": "python3"
  },
  "language_info": {
   "codemirror_mode": {
    "name": "ipython",
    "version": 3
   },
   "file_extension": ".py",
   "mimetype": "text/x-python",
   "name": "python",
   "nbconvert_exporter": "python",
   "pygments_lexer": "ipython3",
   "version": "3.12.10"
  }
 },
 "nbformat": 4,
 "nbformat_minor": 5
}
