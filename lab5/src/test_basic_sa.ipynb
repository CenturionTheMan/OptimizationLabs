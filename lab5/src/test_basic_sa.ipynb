{
 "cells": [
  {
   "cell_type": "code",
   "execution_count": 1,
   "id": "7b92a12e",
   "metadata": {},
   "outputs": [],
   "source": [
    "import queue\n",
    "import numpy as np\n",
    "from typing import List, Tuple\n",
    "import heapq\n",
    "import math\n",
    "import datetime\n",
    "import pandas as pd\n",
    "from classes.random_gen import RandomNumberGenerator\n",
    "from classes.task import Task\n",
    "from classes.basic_sa import BasicSA\n",
    "import itertools\n",
    "\n",
    "\n",
    "seed = 42\n",
    "np.random.seed(seed)"
   ]
  },
  {
   "cell_type": "code",
   "execution_count": 2,
   "id": "3419c67e",
   "metadata": {},
   "outputs": [],
   "source": [
    "rng = RandomNumberGenerator(seed)"
   ]
  },
  {
   "cell_type": "code",
   "execution_count": 3,
   "id": "12a37c5b",
   "metadata": {},
   "outputs": [
    {
     "name": "stdout",
     "output_type": "stream",
     "text": [
      "Done\n"
     ]
    }
   ],
   "source": [
    "file_name = 'sa_cooling.csv'\n",
    "reps = 5\n",
    "n = range(20,101,20)\n",
    "\n",
    "T0_alpha = [0.5, 1, 1.5]\n",
    "alphas = [0.85, 0.9, 0.95, 0.99]\n",
    "\n",
    "T0_beta = [10,50,100]\n",
    "betas = [0.001, 0.01, 0.05, 0.1]\n",
    "\n",
    "results = []\n",
    "for rep_ in range(reps):\n",
    "    for n_ in n:\n",
    "        \n",
    "        for T0_, alpha in itertools.product(T0_alpha, alphas):\n",
    "            tasks = rng.get_random_tasks(n_)\n",
    "            sa = BasicSA(T0=T0_, alpha=alpha, beta=None, cooling='geometric')\n",
    "\n",
    "            time_start = datetime.datetime.now()\n",
    "            best, best_fit, best_found_time, initial_fitness = sa.run(tasks)\n",
    "            time_end = datetime.datetime.now()\n",
    "        \n",
    "            time_taken = (time_end - time_start).total_seconds()\n",
    "            time_till_best = (best_found_time - time_start).total_seconds()\n",
    "        \n",
    "            results.append([rep_, n_, best_fit, time_taken, time_till_best, initial_fitness, sa.T0, sa.alpha, sa.beta, sa.time_limit_s, sa.cooling, sa.initial, sa.initial_size, sa.iter_till_reduction, sa.neighbor, sa.no_impro_iter])\n",
    "            df = pd.DataFrame(results, columns=['rep', 'n', 'best_fit', 'time_taken', 'time_till_best', 'initial_fitness', 'T0', 'alpha', 'beta', 'time_limit_s', 'cooling', 'initial', 'initial_size', 'iter_till_reduction', 'neighbor', 'no_impro_iter'])\n",
    "            df.to_csv(f'./../res/{file_name}', index=False)\n",
    "            \n",
    "        for T0_, beta in itertools.product(T0_beta, betas):\n",
    "            tasks = rng.get_random_tasks(n_)\n",
    "            sa = BasicSA(T0=T0_, alpha=None, beta=beta, cooling='linear')\n",
    "\n",
    "            time_start = datetime.datetime.now()\n",
    "            best, best_fit, best_found_time, initial_fitness = sa.run(tasks)\n",
    "            time_end = datetime.datetime.now()\n",
    "        \n",
    "            time_taken = (time_end - time_start).total_seconds()\n",
    "            time_till_best = (best_found_time - time_start).total_seconds()\n",
    "        \n",
    "            results.append([rep_, n_, best_fit, time_taken, time_till_best, initial_fitness, sa.T0, sa.alpha, sa.beta, sa.time_limit_s, sa.cooling, sa.initial, sa.initial_size, sa.iter_till_reduction, sa.neighbor, sa.no_impro_iter])\n",
    "            df = pd.DataFrame(results, columns=['rep', 'n', 'best_fit', 'time_taken', 'time_till_best', 'initial_fitness', 'T0', 'alpha', 'beta', 'time_limit_s', 'cooling', 'initial', 'initial_size', 'iter_till_reduction', 'neighbor', 'no_impro_iter'])\n",
    "            df.to_csv(f'./../res/{file_name}', index=False)\n",
    "            \n",
    "print(\"Done\")"
   ]
  },
  {
   "cell_type": "code",
   "execution_count": 6,
   "id": "4ab73d55",
   "metadata": {},
   "outputs": [
    {
     "name": "stdout",
     "output_type": "stream",
     "text": [
      "Done\n"
     ]
    }
   ],
   "source": [
    "file_name = 'sa_best_params.csv'\n",
    "reps = 10\n",
    "n = range(20,101,20)\n",
    "results = []\n",
    "for rep_ in range(reps):\n",
    "    for n_ in n:\n",
    "        \n",
    "        tasks = rng.get_random_tasks(n_)\n",
    "        sa = BasicSA(T0=1.5, alpha=.99, beta=None, cooling='geometric', neighbor='wide', initial='group', initial_size=10)\n",
    "\n",
    "        time_start = datetime.datetime.now()\n",
    "        best, best_fit, best_found_time, initial_fitness = sa.run(tasks)\n",
    "        time_end = datetime.datetime.now()\n",
    "        \n",
    "        time_taken = (time_end - time_start).total_seconds()\n",
    "        time_till_best = (best_found_time - time_start).total_seconds()\n",
    "        \n",
    "        results.append([rep_, n_, best_fit, time_taken, time_till_best, initial_fitness, sa.T0, sa.alpha, sa.beta, sa.time_limit_s, sa.cooling, sa.initial, sa.initial_size, sa.iter_till_reduction, sa.neighbor, sa.no_impro_iter])\n",
    "        df = pd.DataFrame(results, columns=['rep', 'n', 'best_fit', 'time_taken', 'time_till_best', 'initial_fitness', 'T0', 'alpha', 'beta', 'time_limit_s', 'cooling', 'initial', 'initial_size', 'iter_till_reduction', 'neighbor', 'no_impro_iter'])\n",
    "        df.to_csv(f'./../res/{file_name}', index=False)\n",
    "            \n",
    "print(\"Done\")"
   ]
  },
  {
   "cell_type": "code",
   "execution_count": 4,
   "id": "b5e11aa4",
   "metadata": {},
   "outputs": [
    {
     "name": "stdout",
     "output_type": "stream",
     "text": [
      "Done\n"
     ]
    }
   ],
   "source": [
    "file_name = 'sa_initial.csv'\n",
    "reps = 5\n",
    "n = range(20,101,20)\n",
    "\n",
    "initial_sizes = [10, 100, 1000, 10000]\n",
    "\n",
    "results = []\n",
    "for rep_ in range(reps):\n",
    "    for n_ in n:\n",
    "        \n",
    "        tasks = rng.get_random_tasks(n_)\n",
    "        sa = BasicSA(T0=1, alpha=0.9, beta=None, cooling='geometric', initial='single', initial_size=None)\n",
    "\n",
    "        time_start = datetime.datetime.now()\n",
    "        best, best_fit, best_found_time, initial_fitness = sa.run(tasks)\n",
    "        time_end = datetime.datetime.now()\n",
    "    \n",
    "        time_taken = (time_end - time_start).total_seconds()\n",
    "        time_till_best = (best_found_time - time_start).total_seconds()\n",
    "    \n",
    "        results.append([rep_, n_, best_fit, time_taken, time_till_best, initial_fitness, sa.T0, sa.alpha, sa.beta, sa.time_limit_s, sa.cooling, sa.initial, sa.initial_size, sa.iter_till_reduction, sa.neighbor, sa.no_impro_iter])\n",
    "        df = pd.DataFrame(results, columns=['rep', 'n', 'best_fit', 'time_taken', 'time_till_best', 'initial_fitness', 'T0', 'alpha', 'beta', 'time_limit_s', 'cooling', 'initial', 'initial_size', 'iter_till_reduction', 'neighbor', 'no_impro_iter'])\n",
    "        df.to_csv(f'./../res/{file_name}', index=False)\n",
    "        \n",
    "        for initial_size in initial_sizes:\n",
    "            tasks = rng.get_random_tasks(n_)\n",
    "            sa = BasicSA(T0=1, alpha=0.9, beta=None, cooling='geometric', initial='group', initial_size=initial_size)\n",
    "\n",
    "            time_start = datetime.datetime.now()\n",
    "            best, best_fit, best_found_time, initial_fitness = sa.run(tasks)\n",
    "            time_end = datetime.datetime.now()\n",
    "        \n",
    "            time_taken = (time_end - time_start).total_seconds()\n",
    "            time_till_best = (best_found_time - time_start).total_seconds()\n",
    "        \n",
    "            results.append([rep_, n_, best_fit, time_taken, time_till_best, initial_fitness, sa.T0, sa.alpha, sa.beta, sa.time_limit_s, sa.cooling, sa.initial, sa.initial_size, sa.iter_till_reduction, sa.neighbor, sa.no_impro_iter])\n",
    "            df = pd.DataFrame(results, columns=['rep', 'n', 'best_fit', 'time_taken', 'time_till_best', 'initial_fitness', 'T0', 'alpha', 'beta', 'time_limit_s', 'cooling', 'initial', 'initial_size', 'iter_till_reduction', 'neighbor', 'no_impro_iter'])\n",
    "            df.to_csv(f'./../res/{file_name}', index=False)\n",
    "            \n",
    "        \n",
    " \n",
    "            \n",
    "print(\"Done\")"
   ]
  },
  {
   "cell_type": "code",
   "execution_count": 5,
   "id": "56c4d74a",
   "metadata": {},
   "outputs": [
    {
     "name": "stdout",
     "output_type": "stream",
     "text": [
      "Done\n"
     ]
    }
   ],
   "source": [
    "file_name = 'sa_neighbor.csv'\n",
    "reps = 5\n",
    "n = range(20,101,20)\n",
    "\n",
    "neighbors = ['close', 'wide']\n",
    "\n",
    "results = []\n",
    "for rep_ in range(reps):\n",
    "    for n_ in n:\n",
    "        \n",
    "        for neighbor in neighbors:\n",
    "            tasks = rng.get_random_tasks(n_)\n",
    "            sa = BasicSA(T0=1, alpha=0.9, beta=None, cooling='geometric', initial='group', initial_size=100, neighbor=neighbor)\n",
    "\n",
    "            time_start = datetime.datetime.now()\n",
    "            best, best_fit, best_found_time, initial_fitness = sa.run(tasks)\n",
    "            time_end = datetime.datetime.now()\n",
    "        \n",
    "            time_taken = (time_end - time_start).total_seconds()\n",
    "            time_till_best = (best_found_time - time_start).total_seconds()\n",
    "        \n",
    "            results.append([rep_, n_, best_fit, time_taken, time_till_best, initial_fitness, sa.T0, sa.alpha, sa.beta, sa.time_limit_s, sa.cooling, sa.initial, sa.initial_size, sa.iter_till_reduction, sa.neighbor, sa.no_impro_iter])\n",
    "            df = pd.DataFrame(results, columns=['rep', 'n', 'best_fit', 'time_taken', 'time_till_best', 'initial_fitness', 'T0', 'alpha', 'beta', 'time_limit_s', 'cooling', 'initial', 'initial_size', 'iter_till_reduction', 'neighbor', 'no_impro_iter'])\n",
    "            df.to_csv(f'./../res/{file_name}', index=False)\n",
    "            \n",
    "            \n",
    "print(\"Done\")"
   ]
  }
 ],
 "metadata": {
  "kernelspec": {
   "display_name": ".venv",
   "language": "python",
   "name": "python3"
  },
  "language_info": {
   "codemirror_mode": {
    "name": "ipython",
    "version": 3
   },
   "file_extension": ".py",
   "mimetype": "text/x-python",
   "name": "python",
   "nbconvert_exporter": "python",
   "pygments_lexer": "ipython3",
   "version": "3.12.10"
  }
 },
 "nbformat": 4,
 "nbformat_minor": 5
}
