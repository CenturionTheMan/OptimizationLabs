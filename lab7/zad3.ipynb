{
 "cells": [
  {
   "cell_type": "markdown",
   "id": "677f98ba",
   "metadata": {},
   "source": [
    "### IMPORTY  "
   ]
  },
  {
   "cell_type": "code",
   "execution_count": 70,
   "id": "ed269300",
   "metadata": {},
   "outputs": [],
   "source": [
    "import queue\n",
    "import numpy as np\n",
    "from typing import List, Tuple\n",
    "import math\n",
    "import datetime\n",
    "import pandas as pd\n",
    "import itertools\n",
    "from random_gen import RandomNumberGenerator2\n",
    "import time\n",
    "from multiprocessing import Pool, cpu_count\n",
    "import random\n",
    "import matplotlib.pyplot as plt\n",
    "import json\n",
    "import pickle\n",
    "from tabulate import tabulate\n"
   ]
  },
  {
   "cell_type": "markdown",
   "id": "b30b88d6",
   "metadata": {},
   "source": [
    "### GENERACJA DANYCH"
   ]
  },
  {
   "cell_type": "code",
   "execution_count": 71,
   "id": "8084e71f",
   "metadata": {},
   "outputs": [],
   "source": [
    "seed = 289\n",
    "np.random.seed(seed)\n",
    "random.seed(seed)\n",
    "INPUT_SIZE = 100\n",
    "   \n",
    "random_gen = RandomNumberGenerator2(seedVaule=seed) # type: ignore\n",
    "p, d = random_gen.generate_input(INPUT_SIZE)"
   ]
  },
  {
   "cell_type": "markdown",
   "id": "db692c11",
   "metadata": {},
   "source": [
    "### ALGORYTM"
   ]
  },
  {
   "cell_type": "code",
   "execution_count": 72,
   "id": "b7555d63",
   "metadata": {},
   "outputs": [],
   "source": [
    "class AlgorithmSA:\n",
    "    def __init__(self, \n",
    "                 iterations:int,\n",
    "                 alpha=0.995\n",
    "                 ):\n",
    "        self.iterations = iterations\n",
    "        self.alpha = alpha\n",
    "        \n",
    "        \n",
    "    def eval_end_times(self, p) -> List:\n",
    "        C = []\n",
    "        length = p[0].shape[0]\n",
    "        for i in range(length):\n",
    "            if i == 0:\n",
    "                C.append(p[0][i] + p[1][i] + p[2][i])\n",
    "            else:\n",
    "                tmp = C[i-1] + p[0][i] + p[1][i] + p[2][i]\n",
    "                C.append(tmp)\n",
    "        return C\n",
    "        \n",
    "        \n",
    "    \n",
    "    def eval_criterion(self, p, d) -> Tuple:\n",
    "        kry_3 = None\n",
    "        kry_4 = 0\n",
    "        kry_5 = None\n",
    "        kry_6 = 0\n",
    "        C = self.eval_end_times(p)\n",
    "        length = p[0].shape[0]\n",
    "        for i in range(length):\n",
    "            diff = C[i] - d[i]\n",
    "            \n",
    "            if kry_5 is None or kry_5 < diff:\n",
    "                kry_5 = diff\n",
    "            \n",
    "            diff_pos = max(diff, 0)\n",
    "            if kry_3 is None or kry_3 < diff_pos:\n",
    "                kry_3 = diff_pos\n",
    "            kry_4 += diff_pos\n",
    "            kry_6 += diff                \n",
    "        return [kry_3, kry_4, kry_5, kry_6]              \n",
    "        \n",
    "    \n",
    "    def get_initial(self, p, d):\n",
    "        length = len(p[0])\n",
    "        new_order = np.random.permutation(length)\n",
    "        p = [p[0][new_order], p[1][new_order], p[2][new_order]]\n",
    "        d = d[new_order]\n",
    "        return p, d\n",
    "    \n",
    "    def get_neighbor(self, p, d):\n",
    "        neighbor = p.copy()\n",
    "        i, j = random.sample(range(p[0].shape[0]), 2)\n",
    "        neighbor[0][i], neighbor[0][j] = neighbor[0][j], neighbor[0][i]\n",
    "        neighbor[1][i], neighbor[1][j] = neighbor[1][j], neighbor[1][i]\n",
    "        neighbor[2][i], neighbor[2][j] = neighbor[2][j], neighbor[2][i]\n",
    "        \n",
    "        neighbor_d = d.copy()\n",
    "        neighbor_d[i], neighbor_d[j] = neighbor_d[j], neighbor_d[i]\n",
    "        return neighbor, neighbor_d\n",
    "                        \n",
    "    def dominates(self, a, b):\n",
    "        return np.all(b <= a) and np.any(b < a)\n",
    "    \n",
    "    def calc_prob(self, it):\n",
    "        try:\n",
    "            return math.pow(self.alpha, it)\n",
    "        except Exception as e:\n",
    "            return 0.0001\n",
    "    \n",
    "    def run(self, p, d):\n",
    "        P = []\n",
    "        it = 0\n",
    "        p, d = self.get_initial(p, d)\n",
    "        x = self.eval_criterion(p, d)\n",
    "        P.append(x)\n",
    "        \n",
    "        while it < self.iterations:\n",
    "            p_neigh, d_neigh = self.get_neighbor(p, d)\n",
    "            x_prim = self.eval_criterion(p_neigh, d_neigh)\n",
    "            \n",
    "            if self.dominates(x_prim, x):\n",
    "                p = p_neigh\n",
    "                d = d_neigh\n",
    "                x = x_prim\n",
    "                P.append(x)\n",
    "            elif (random.random() < self.calc_prob(it)):\n",
    "                p = p_neigh\n",
    "                d = d_neigh\n",
    "                x = x_prim\n",
    "                P.append(x)\n",
    "            it += 1\n",
    "            \n",
    "        # Pareto\n",
    "        F = P.copy()\n",
    "        for a in range(len(F)):\n",
    "            for b in range(len(F)):\n",
    "                if F[a] is not None and F[b] is not None and a != b and self.dominates(F[b], F[a]):\n",
    "                    F[a] = None\n",
    "                    break\n",
    "        F = [f for f in F if f is not None]\n",
    "        F = np.array(F)\n",
    "        \n",
    "        return F, P"
   ]
  },
  {
   "cell_type": "markdown",
   "id": "a8560dae",
   "metadata": {},
   "source": [
    "### ZAPISANIE WYNIKÓW - WYWOŁANIE ALGORYTMU"
   ]
  },
  {
   "cell_type": "code",
   "execution_count": 73,
   "id": "2c4685d1",
   "metadata": {},
   "outputs": [],
   "source": [
    "max_iters = [100, 200, 400, 800, 1600]\n",
    "REPETITIONS = 1\n",
    "\n",
    "results = []\n",
    "results_for_hvi = [[] for _ in max_iters]\n",
    "\n",
    "# Gathering results for different max iterations\n",
    "for i, iters in enumerate(max_iters):\n",
    "    algorithm = AlgorithmSA(iterations=iters)\n",
    "    F, P = algorithm.run(p, d)\n",
    "    results.append((iters, F, P))"
   ]
  },
  {
   "cell_type": "code",
   "execution_count": 74,
   "id": "aaa06110",
   "metadata": {},
   "outputs": [],
   "source": [
    "def create_paths(dir, n: int):\n",
    "    return f'{dir}/n_{n}_results.pkl', f'{dir}/n_{n}_results_for_hvi.pkl'\n",
    "\n",
    "DIR = 'res/zad3'\n",
    "RESULTS_PATH, RESULTS_FOR_HVI_PATH = create_paths(DIR, INPUT_SIZE)"
   ]
  },
  {
   "cell_type": "code",
   "execution_count": 75,
   "id": "f3fbe328",
   "metadata": {},
   "outputs": [],
   "source": [
    "with open(RESULTS_PATH, 'wb') as f:\n",
    "    pickle.dump(results, f)"
   ]
  },
  {
   "cell_type": "markdown",
   "id": "170c1d9a",
   "metadata": {},
   "source": [
    "### LOAD DATA"
   ]
  },
  {
   "cell_type": "code",
   "execution_count": 76,
   "id": "547e084b",
   "metadata": {},
   "outputs": [],
   "source": [
    "with open(RESULTS_PATH, 'rb') as f:\n",
    "    results_loaded = pickle.load(f)"
   ]
  },
  {
   "cell_type": "code",
   "execution_count": 77,
   "id": "20e897ce",
   "metadata": {},
   "outputs": [
    {
     "name": "stdout",
     "output_type": "stream",
     "text": [
      "+----+--------------+---------+---------+---------+---------+\n",
      "|    |   iterations |   kry_3 |   kry_4 |   kry_5 |   kry_6 |\n",
      "|----+--------------+---------+---------+---------+---------|\n",
      "|  0 |          100 |    9935 |  289137 |    9935 |  188681 |\n",
      "|  1 |          200 |   10477 |  309813 |   10477 |  214478 |\n",
      "|  2 |          400 |   10362 |  312470 |   10362 |  206490 |\n",
      "|  3 |          800 |   10497 |  328489 |   10497 |  226798 |\n",
      "|  4 |         1600 |   10442 |  341164 |   10442 |  238403 |\n",
      "+----+--------------+---------+---------+---------+---------+\n"
     ]
    }
   ],
   "source": [
    "df = pd.DataFrame(columns=['iterations', 'kry_3', 'kry_4', 'kry_5', 'kry_6'], \n",
    "                  data=[(iters, *np.mean(F, axis=0)) for iters, F, _ in results_loaded])\n",
    "\n",
    "print(tabulate(df, headers='keys', tablefmt='psql'))"
   ]
  }
 ],
 "metadata": {
  "kernelspec": {
   "display_name": ".venv",
   "language": "python",
   "name": "python3"
  },
  "language_info": {
   "codemirror_mode": {
    "name": "ipython",
    "version": 3
   },
   "file_extension": ".py",
   "mimetype": "text/x-python",
   "name": "python",
   "nbconvert_exporter": "python",
   "pygments_lexer": "ipython3",
   "version": "3.12.10"
  }
 },
 "nbformat": 4,
 "nbformat_minor": 5
}
